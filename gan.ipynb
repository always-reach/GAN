{
  "nbformat": 4,
  "nbformat_minor": 0,
  "metadata": {
    "colab": {
      "name": "gan.ipynb",
      "provenance": [],
      "authorship_tag": "ABX9TyNhB3ZJakTtnpc8k2QkAp3V",
      "include_colab_link": true
    },
    "kernelspec": {
      "name": "python3",
      "display_name": "Python 3"
    },
    "language_info": {
      "name": "python"
    }
  },
  "cells": [
    {
      "cell_type": "markdown",
      "metadata": {
        "id": "view-in-github",
        "colab_type": "text"
      },
      "source": [
        "<a href=\"https://colab.research.google.com/github/always-reach/GAN/blob/main/gan.ipynb\" target=\"_parent\"><img src=\"https://colab.research.google.com/assets/colab-badge.svg\" alt=\"Open In Colab\"/></a>"
      ]
    },
    {
      "cell_type": "code",
      "execution_count": 21,
      "metadata": {
        "id": "8Uf7Xy1g4v-U"
      },
      "outputs": [],
      "source": [
        "from tensorflow.keras import Sequential,datasets\n",
        "from tensorflow.keras.optimizers import Adam\n",
        "from tensorflow.keras.layers import Dense,Flatten,LeakyReLU,BatchNormalization,Reshape\n",
        "from sklearn.model_selection import train_test_split\n",
        "\n",
        "import numpy as np\n",
        "import matplotlib.pyplot as plt"
      ]
    },
    {
      "cell_type": "code",
      "source": [
        "class GAN():\n",
        "  def __init__(self):\n",
        "    #mnist画像の幅\n",
        "    self.image_row=28\n",
        "    #mnist画像の高さ\n",
        "    self.image_col=28\n",
        "    #mnist画像のチャンネル数\n",
        "    self.channels=1\n",
        "    self.image_shape=(self.image_row,self.image_col,self.channels)\n",
        "    #入力ノイズの次元数\n",
        "    self.z_input_dim=100\n",
        "    #最適化アルゴリズムはAdam\n",
        "    optimizer=Adam()\n",
        "\n",
        "    self.discriminator=self.build_discriminator()\n",
        "    self.discriminator.compile(loss='binary_crossentropy',optimizer=optimizer,metrics=[\"accuracy\"])\n",
        "\n",
        "    self.generator=self.build_generator()\n",
        "    self.combined=self.build_combined()\n",
        "\n",
        "  def build_discriminator(self):\n",
        "    image_shape=self.image_shape\n",
        "    model=Sequential()\n",
        "    #入力を平坦化\n",
        "    model.add(Flatten(input_shape=image_shape))\n",
        "    #全結合\n",
        "    model.add(Dense(512))\n",
        "    #LeakyReLU f(x)= ax(x<0) x(x>=0)\n",
        "    model.add(LeakyReLU(alpha=0.1))\n",
        "    #BatchNomalization\n",
        "    model.add(BatchNormalization(momentum=0.8))\n",
        "\n",
        "    model.add(Dense(1024))\n",
        "    model.add(LeakyReLU(alpha=0.2))\n",
        "    model.add(BatchNormalization(momentum=0.8))\n",
        "\n",
        "    model.add(Dense(np.prod(self.image_shape),activation='tanh'))\n",
        "    model.add(Reshape(self.image_shape))\n",
        "\n",
        "    model.summary()\n",
        "    return model\n",
        "\n",
        "  def build_generator(self):\n",
        "    noise_shape=(self.z_input_dim,)\n",
        "    model=Sequential()\n",
        "    model.add(Dense(256,input_shape=noise_shape))\n",
        "    model.add(LeakyReLU(alpha=0.2))\n",
        "    model.add(BatchNormalization(momentum=0.8))\n",
        "    model.add(Dense(512))\n",
        "    model.add(LeakyReLU(alpha=0.2))\n",
        "    model.add(BatchNormalization(momentum=0.8))\n",
        "    model.add(Dense(1024))\n",
        "    model.add(LeakyReLU(alpha=0.2))\n",
        "    model.add(BatchNormalization(momentum=0.8))\n",
        "    model.add(Dense(np.prod(self.image_shape),activation='tanh'))\n",
        "    model.add(Reshape(self.image_shape))\n",
        "\n",
        "    model.summary()\n",
        "    return model\n",
        "\n",
        "  def build_combined(self):\n",
        "    self.discriminator.trainable=False\n",
        "    model=Sequential([self.generator,self.discriminator])\n",
        "    return model\n",
        "\n",
        "  def train(self,epochs,batch_size=128,save_interval=50):\n",
        "    (x_train,y_train),(x_test,y_test)=datasets.mnist.load_data()\n",
        "    x_train=(x_train.astype(np.float32)-127.5)/127.5\n",
        "    print(\"before expand_dims\",x_train.shape)\n",
        "    x_train=np.expand_dims(x_train,axis=3)\n",
        "    print(\"after expand_dims\",x_train.shape)"
      ],
      "metadata": {
        "id": "vBRit-sI6gws"
      },
      "execution_count": 28,
      "outputs": []
    },
    {
      "cell_type": "code",
      "source": [
        "#mnistのデータを取得\n",
        "(_x_train_val, _y_train_val), (_x_test, _y_test) = datasets.mnist.load_data()\n",
        "# 学習中の検証データがないので、train_test_split()を使って学習データ8割、検証データを2割に分割する。test_sizeが検証データの割合になっている。\n",
        "_x_train, _x_val, _y_train, _y_val = train_test_split(_x_train_val, _y_train_val, test_size=0.2)\n",
        "print(_x_train[0])\n",
        "print(\"x_train   : \", _x_train.shape) # x_train   :  (48000, 28, 28)\n",
        "print(\"y_train   : \", _y_train.shape) # y_train   :  (48000,)\n",
        "print(\"x_val      : \", _x_val.shape) # x_val      :  (12000, 28, 28)\n",
        "print(\"y_val      : \", _y_val.shape) # y_val      :  (12000,)\n",
        "print(\"x_test    : \", _x_test.shape) # x_test    :  (10000, 28, 28)\n",
        "print(\"y_test    : \", _y_test.shape) # y_test    :  (10000,)"
      ],
      "metadata": {
        "id": "thtpAsKU5L2S"
      },
      "execution_count": null,
      "outputs": []
    },
    {
      "cell_type": "code",
      "source": [
        "plt.figure(figsize=(10,10))\n",
        "\n",
        "# MNISTの0から9の画像をそれぞれ表示する。\n",
        "for i in range(10):\n",
        "    data = [(x,t) for x, t in zip(_x_train, _y_train) if t == i]\n",
        "    x, y = data[0]\n",
        "    plt.subplot(5,2, i+1)\n",
        "    # plt.title()はタイトルを表示する。ここでは画像枚数を表示している。\n",
        "    plt.title(\"len={}\".format(len(data)))\n",
        "    # 画像を見やすいように座標軸を非表示にする。\n",
        "    plt.axis(\"off\")\n",
        "    # 画像を表示\n",
        "    plt.imshow(x, cmap='gray')\n",
        "\n",
        "plt.tight_layout()\n",
        "plt.show()"
      ],
      "metadata": {
        "colab": {
          "base_uri": "https://localhost:8080/",
          "height": 729
        },
        "id": "DlToZbkf5fEg",
        "outputId": "19458bad-9f35-42b7-946b-b1cb42987880"
      },
      "execution_count": 5,
      "outputs": [
        {
          "output_type": "display_data",
          "data": {
            "image/png": "[encoded data removed]",
            "text/plain": [
              "<Figure size 720x720 with 10 Axes>"
            ]
          },
          "metadata": {
            "needs_background": "light"
          }
        }
      ]
    },
    {
      "cell_type": "code",
      "source": [
        "gan=GAN()\n",
        "gan.train(epochs=100)"
      ],
      "metadata": {
        "id": "Kotvu75g5i4J",
        "colab": {
          "base_uri": "https://localhost:8080/"
        },
        "outputId": "e68132fc-ab88-46b3-9754-3be792072ca2"
      },
      "execution_count": 29,
      "outputs": [
        {
          "output_type": "stream",
          "name": "stdout",
          "text": [
            "Model: \"sequential_11\"\n",
            "_________________________________________________________________\n",
            " Layer (type)                Output Shape              Param #   \n",
            "=================================================================\n",
            " flatten_4 (Flatten)         (None, 784)               0         \n",
            "                                                                 \n",
            " dense_24 (Dense)            (None, 512)               401920    \n",
            "                                                                 \n",
            " leaky_re_lu_17 (LeakyReLU)  (None, 512)               0         \n",
            "                                                                 \n",
            " batch_normalization_17 (Bat  (None, 512)              2048      \n",
            " chNormalization)                                                \n",
            "                                                                 \n",
            " dense_25 (Dense)            (None, 1024)              525312    \n",
            "                                                                 \n",
            " leaky_re_lu_18 (LeakyReLU)  (None, 1024)              0         \n",
            "                                                                 \n",
            " batch_normalization_18 (Bat  (None, 1024)             4096      \n",
            " chNormalization)                                                \n",
            "                                                                 \n",
            " dense_26 (Dense)            (None, 784)               803600    \n",
            "                                                                 \n",
            " reshape_7 (Reshape)         (None, 28, 28, 1)         0         \n",
            "                                                                 \n",
            "=================================================================\n",
            "Total params: 1,736,976\n",
            "Trainable params: 1,733,904\n",
            "Non-trainable params: 3,072\n",
            "_________________________________________________________________\n",
            "Model: \"sequential_12\"\n",
            "_________________________________________________________________\n",
            " Layer (type)                Output Shape              Param #   \n",
            "=================================================================\n",
            " dense_27 (Dense)            (None, 256)               25856     \n",
            "                                                                 \n",
            " leaky_re_lu_19 (LeakyReLU)  (None, 256)               0         \n",
            "                                                                 \n",
            " batch_normalization_19 (Bat  (None, 256)              1024      \n",
            " chNormalization)                                                \n",
            "                                                                 \n",
            " dense_28 (Dense)            (None, 512)               131584    \n",
            "                                                                 \n",
            " leaky_re_lu_20 (LeakyReLU)  (None, 512)               0         \n",
            "                                                                 \n",
            " batch_normalization_20 (Bat  (None, 512)              2048      \n",
            " chNormalization)                                                \n",
            "                                                                 \n",
            " dense_29 (Dense)            (None, 1024)              525312    \n",
            "                                                                 \n",
            " leaky_re_lu_21 (LeakyReLU)  (None, 1024)              0         \n",
            "                                                                 \n",
            " batch_normalization_21 (Bat  (None, 1024)             4096      \n",
            " chNormalization)                                                \n",
            "                                                                 \n",
            " dense_30 (Dense)            (None, 784)               803600    \n",
            "                                                                 \n",
            " reshape_8 (Reshape)         (None, 28, 28, 1)         0         \n",
            "                                                                 \n",
            "=================================================================\n",
            "Total params: 1,493,520\n",
            "Trainable params: 1,489,936\n",
            "Non-trainable params: 3,584\n",
            "_________________________________________________________________\n",
            "before expand_dims (60000, 28, 28)\n",
            "after expand_dims (60000, 28, 28, 1)\n"
          ]
        }
      ]
    },
    {
      "cell_type": "code",
      "source": [
        ""
      ],
      "metadata": {
        "id": "AaNu31-TrTFZ"
      },
      "execution_count": null,
      "outputs": []
    }
  ]
}